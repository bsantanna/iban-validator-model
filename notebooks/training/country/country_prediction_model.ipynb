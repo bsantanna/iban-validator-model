{
 "cells": [
  {
   "cell_type": "markdown",
   "source": [
    "> Copyright 2022 Bruno César Brito Sant'Anna <mail@bsantanna.me>\n",
    ">\n",
    "> Licensed under the Apache License, Version 2.0 (the \"License\");\n",
    "> you may not use this file except in compliance with the License.\n",
    "> You may obtain a copy of the License at\n",
    ">\n",
    ">     http://www.apache.org/licenses/LICENSE-2.0\n",
    ">\n",
    "> Unless required by applicable law or agreed to in writing, software\n",
    "> distributed under the License is distributed on an \"AS IS\" BASIS,\n",
    "> WITHOUT WARRANTIES OR CONDITIONS OF ANY KIND, either express or implied.\n",
    "> See the License for the specific language governing permissions and\n",
    "> limitations under the License."
   ],
   "metadata": {
    "collapsed": false
   }
  },
  {
   "cell_type": "code",
   "execution_count": 1,
   "id": "30c67169-7916-414d-9e25-3fbeeb8d4624",
   "metadata": {},
   "outputs": [],
   "source": [
    "import matplotlib.pyplot as plt\n",
    "import os\n",
    "import pandas as pd\n",
    "os.environ['TF_CPP_MIN_LOG_LEVEL'] = '3'\n",
    "import tensorflow as tf"
   ]
  },
  {
   "cell_type": "code",
   "execution_count": 2,
   "outputs": [],
   "source": [
    "# Globals\n",
    "batch_size = 32\n",
    "num_epochs = 500\n",
    "\n",
    "# Structured tabular iban data\n",
    "# Original Source: https://github.com/open-ibans/ibans-python\n",
    "iban_data = pd.read_csv(\"../../ibans.txt\", sep=\"|\")"
   ],
   "metadata": {
    "collapsed": false
   }
  },
  {
   "cell_type": "code",
   "execution_count": 3,
   "outputs": [],
   "source": [
    "# Utility functions\n",
    "# Original Source: https://keras.io/examples/structured_data/structured_data_classification_from_scratch/\n",
    "\n",
    "def build_model(dataset):\n",
    "    # for x, y in train_dataset.take(1):\n",
    "    #     print(\"Input:\", x)\n",
    "    #     print(\"Target:\", y)\n",
    "\n",
    "    # Categorical feature encoded as string\n",
    "    feature_prefix = tf.keras.Input(shape=(1,), name=\"Prefix\", dtype=\"string\")\n",
    "    feature_prefix_encoded = encode_categorical_feature(feature_prefix, \"Prefix\", dataset, is_string=True, use_lookup=True)\n",
    "\n",
    "    # Numerical feature\n",
    "    feature_size = tf.keras.Input(shape=(1,), name=\"Size\", dtype=\"int64\")\n",
    "    feature_size_encoded = encode_numerical_feature(feature_size, \"Size\", dataset)\n",
    "\n",
    "    # Inputs\n",
    "    inputs = [\n",
    "        feature_prefix,\n",
    "        feature_size\n",
    "    ]\n",
    "\n",
    "    features = tf.keras.layers.concatenate([\n",
    "        feature_prefix_encoded,\n",
    "        feature_size_encoded\n",
    "    ])\n",
    "\n",
    "    input_layer = tf.keras.layers.Dense(batch_size, activation=\"relu\")(features)\n",
    "    output_layer = tf.keras.layers.Dense(len(iban_data), activation=\"softmax\")(input_layer)\n",
    "\n",
    "    model = tf.keras.Model(inputs, output_layer)\n",
    "    model.compile(\"adam\", \"categorical_crossentropy\", metrics=[\n",
    "        \"accuracy\",\n",
    "    ])\n",
    "\n",
    "    return model\n",
    "\n",
    "def dataframe_to_dataset(dataframe):\n",
    "    df = dataframe.drop(\"Country\", axis=1)\n",
    "    labels = tf.keras.utils.to_categorical(dataframe[\"Country\"].factorize()[0])\n",
    "    ds = tf.data.Dataset.from_tensor_slices((dict(df), labels))\n",
    "    ds = ds.shuffle(buffer_size=len(df))\n",
    "    return ds\n",
    "\n",
    "\n",
    "def encode_numerical_feature(feature, name, dataset):\n",
    "    feature_ds = dataset.map(lambda x, y: x[name])\n",
    "    feature_ds = feature_ds.map(lambda x: tf.expand_dims(x, -1))\n",
    "\n",
    "    normalizer = tf.keras.layers.Normalization()\n",
    "    normalizer.adapt(feature_ds)\n",
    "    encoded_feature = normalizer(feature)\n",
    "\n",
    "    return encoded_feature\n",
    "\n",
    "\n",
    "def encode_categorical_feature(feature, name, dataset, is_string=False, use_lookup=True, max_tokens=0):\n",
    "    # Prepare a Dataset that only yields our feature\n",
    "    feature_ds = dataset.map(lambda x, y: x[name])\n",
    "    feature_ds = feature_ds.map(lambda x: tf.expand_dims(x, -1))\n",
    "\n",
    "    # for x, y in feature_ds.take(1):\n",
    "    #     print(\"Input:\", x)\n",
    "    #     print(\"Target:\", y)\n",
    "\n",
    "    if use_lookup:\n",
    "        encoding_layer_class = tf.keras.layers.StringLookup if is_string else tf.keras.layers.IntegerLookup\n",
    "        encoding_layer = encoding_layer_class(output_mode=\"binary\")\n",
    "        encoding_layer.adapt(feature_ds)\n",
    "\n",
    "    elif is_string:\n",
    "        encoding_layer = tf.keras.layers.TextVectorization()\n",
    "        encoding_layer.adapt(feature_ds)\n",
    "\n",
    "    else:\n",
    "        encoding_layer = tf.keras.layers.CategoryEncoding(num_tokens=max_tokens, output_mode=\"one_hot\")\n",
    "\n",
    "    encoded_feature = encoding_layer(feature)\n",
    "    return encoded_feature\n",
    "\n",
    "\n",
    "def predict_country(trained_model, prefix, size):\n",
    "    prediction = trained_model.predict({\n",
    "        \"Prefix\": tf.convert_to_tensor([prefix]),\n",
    "        \"Size\": tf.convert_to_tensor([size])\n",
    "    })\n",
    "    # return max probability\n",
    "    return iban_data[\"Country\"][prediction.argmax()]"
   ],
   "metadata": {
    "collapsed": false
   }
  },
  {
   "cell_type": "code",
   "execution_count": 4,
   "id": "10cac187-7a46-4a41-8472-a31bc5422d42",
   "metadata": {},
   "outputs": [
    {
     "data": {
      "text/plain": "(105, 3)"
     },
     "execution_count": 4,
     "metadata": {},
     "output_type": "execute_result"
    }
   ],
   "source": [
    "# Format tabular data\n",
    "iban_data[\"Prefix\"] = iban_data[\"Alpha\"]\n",
    "iban_data = iban_data.drop([\"Alpha\", \"BBAN Format\", \"IBAN Fields\"], axis=1)\n",
    "\n",
    "iban_data.shape"
   ]
  },
  {
   "cell_type": "code",
   "execution_count": 5,
   "id": "e3929c90-2dd5-4df5-b444-4822d5d394c2",
   "metadata": {},
   "outputs": [
    {
     "data": {
      "text/plain": "Country    0\nSize       0\nPrefix     0\ndtype: int64"
     },
     "execution_count": 5,
     "metadata": {},
     "output_type": "execute_result"
    }
   ],
   "source": [
    "iban_data.isna().sum()"
   ]
  },
  {
   "cell_type": "code",
   "execution_count": 6,
   "outputs": [],
   "source": [
    "# initialize dataset\n",
    "train_dataset = dataframe_to_dataset(iban_data).batch(batch_size)\n",
    "train_model = build_model(train_dataset)"
   ],
   "metadata": {
    "collapsed": false
   }
  },
  {
   "cell_type": "code",
   "execution_count": 7,
   "id": "190cae34-0f01-4436-993d-864d7f6d7093",
   "metadata": {},
   "outputs": [],
   "source": [
    "#tf.keras.utils.plot_model(train_model, show_shapes=True, rankdir=\"LR\")"
   ]
  },
  {
   "cell_type": "code",
   "execution_count": 8,
   "id": "19803631-c996-4a7c-9321-19a95889f088",
   "metadata": {},
   "outputs": [],
   "source": [
    "training_history = train_model.fit(train_dataset, epochs=num_epochs, verbose=0)"
   ]
  },
  {
   "cell_type": "code",
   "execution_count": 9,
   "id": "421980c1-a95d-4ea8-a8fb-0e72239ceda1",
   "metadata": {},
   "outputs": [
    {
     "data": {
      "text/plain": "<matplotlib.legend.Legend at 0x7f80da068820>"
     },
     "execution_count": 9,
     "metadata": {},
     "output_type": "execute_result"
    },
    {
     "data": {
      "text/plain": "<Figure size 1400x800 with 1 Axes>",
      "image/png": "[encoded data removed]"
     },
     "metadata": {},
     "output_type": "display_data"
    }
   ],
   "source": [
    "train_acc = training_history.history[\"accuracy\"]\n",
    "train_loss = training_history.history[\"loss\"]\n",
    "\n",
    "epochs_range = range(num_epochs)\n",
    "\n",
    "plt.figure(figsize=(14, 8))\n",
    "\n",
    "plt.plot(epochs_range, train_acc, label=\"Train Accuracy\")\n",
    "plt.plot(epochs_range, train_loss, label=\"Train Loss\")\n",
    "plt.title(\"Accuracy and Loss\")\n",
    "plt.legend()\n"
   ]
  },
  {
   "cell_type": "code",
   "execution_count": 10,
   "outputs": [
    {
     "name": "stderr",
     "output_type": "stream",
     "text": [
      "WARNING:absl:Function `_wrapped_model` contains input name(s) Prefix, Size with unsupported characters which will be renamed to prefix, size in the SavedModel.\n"
     ]
    },
    {
     "name": "stdout",
     "output_type": "stream",
     "text": [
      "INFO:tensorflow:Assets written to: bin/assets\n"
     ]
    },
    {
     "name": "stderr",
     "output_type": "stream",
     "text": [
      "INFO:tensorflow:Assets written to: bin/assets\n"
     ]
    }
   ],
   "source": [
    "train_model.save(\"bin\")"
   ],
   "metadata": {
    "collapsed": false
   }
  },
  {
   "cell_type": "code",
   "execution_count": 11,
   "outputs": [],
   "source": [
    "restored_model = tf.keras.models.load_model(\"bin\")"
   ],
   "metadata": {
    "collapsed": false
   }
  },
  {
   "cell_type": "code",
   "execution_count": 12,
   "outputs": [
    {
     "name": "stdout",
     "output_type": "stream",
     "text": [
      "Model: \"model\"\n",
      "__________________________________________________________________________________________________\n",
      " Layer (type)                   Output Shape         Param #     Connected to                     \n",
      "==================================================================================================\n",
      " Prefix (InputLayer)            [(None, 1)]          0           []                               \n",
      "                                                                                                  \n",
      " Size (InputLayer)              [(None, 1)]          0           []                               \n",
      "                                                                                                  \n",
      " string_lookup (StringLookup)   (None, 106)          0           ['Prefix[0][0]']                 \n",
      "                                                                                                  \n",
      " normalization (Normalization)  (None, 1)            3           ['Size[0][0]']                   \n",
      "                                                                                                  \n",
      " concatenate (Concatenate)      (None, 107)          0           ['string_lookup[0][0]',          \n",
      "                                                                  'normalization[0][0]']          \n",
      "                                                                                                  \n",
      " dense (Dense)                  (None, 32)           3456        ['concatenate[0][0]']            \n",
      "                                                                                                  \n",
      " dense_1 (Dense)                (None, 105)          3465        ['dense[0][0]']                  \n",
      "                                                                                                  \n",
      "==================================================================================================\n",
      "Total params: 6,924\n",
      "Trainable params: 6,921\n",
      "Non-trainable params: 3\n",
      "__________________________________________________________________________________________________\n"
     ]
    }
   ],
   "source": [
    "restored_model.summary()"
   ],
   "metadata": {
    "collapsed": false
   }
  },
  {
   "cell_type": "code",
   "execution_count": 13,
   "outputs": [
    {
     "data": {
      "text/plain": "    Country  Size Prefix\n65  Morocco    28     MA\n24  Germany    22     DE\n81   Poland    28     PL",
      "text/html": "<div>\n<style scoped>\n    .dataframe tbody tr th:only-of-type {\n        vertical-align: middle;\n    }\n\n    .dataframe tbody tr th {\n        vertical-align: top;\n    }\n\n    .dataframe thead th {\n        text-align: right;\n    }\n</style>\n<table border=\"1\" class=\"dataframe\">\n  <thead>\n    <tr style=\"text-align: right;\">\n      <th></th>\n      <th>Country</th>\n      <th>Size</th>\n      <th>Prefix</th>\n    </tr>\n  </thead>\n  <tbody>\n    <tr>\n      <th>65</th>\n      <td>Morocco</td>\n      <td>28</td>\n      <td>MA</td>\n    </tr>\n    <tr>\n      <th>24</th>\n      <td>Germany</td>\n      <td>22</td>\n      <td>DE</td>\n    </tr>\n    <tr>\n      <th>81</th>\n      <td>Poland</td>\n      <td>28</td>\n      <td>PL</td>\n    </tr>\n  </tbody>\n</table>\n</div>"
     },
     "execution_count": 13,
     "metadata": {},
     "output_type": "execute_result"
    }
   ],
   "source": [
    "iban_data.sample(3)"
   ],
   "metadata": {
    "collapsed": false
   }
  },
  {
   "cell_type": "code",
   "execution_count": 16,
   "outputs": [
    {
     "name": "stdout",
     "output_type": "stream",
     "text": [
      "1/1 [==============================] - 0s 48ms/step\n",
      "Country: Germany\n"
     ]
    }
   ],
   "source": [
    "print(\"Country: {}\".format(predict_country(restored_model, prefix=\"DE\", size=22)))"
   ],
   "metadata": {
    "collapsed": false
   }
  },
  {
   "cell_type": "code",
   "execution_count": 14,
   "outputs": [],
   "source": [],
   "metadata": {
    "collapsed": false
   }
  }
 ],
 "metadata": {
  "kernelspec": {
   "display_name": "Python 3",
   "language": "python",
   "name": "python3"
  },
  "language_info": {
   "codemirror_mode": {
    "name": "ipython",
    "version": 3
   },
   "file_extension": ".py",
   "mimetype": "text/x-python",
   "name": "python",
   "nbconvert_exporter": "python",
   "pygments_lexer": "ipython3",
   "version": "3.8.8"
  }
 },
 "nbformat": 4,
 "nbformat_minor": 5
}
