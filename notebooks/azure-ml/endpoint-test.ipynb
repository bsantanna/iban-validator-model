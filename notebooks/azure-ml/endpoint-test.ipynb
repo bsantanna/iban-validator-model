{
 "cells": [
  {
   "cell_type": "code",
   "execution_count": 13,
   "metadata": {
    "collapsed": true,
    "ExecuteTime": {
     "end_time": "2023-07-08T20:40:58.115538224Z",
     "start_time": "2023-07-08T20:40:56.874081004Z"
    }
   },
   "outputs": [],
   "source": [
    "import json\n",
    "import urllib.request\n",
    "\n",
    "import numpy as np\n",
    "import pandas as pd"
   ]
  },
  {
   "cell_type": "code",
   "execution_count": 6,
   "outputs": [],
   "source": [
    "# request data\n",
    "data = {\n",
    "  \"input_data\": {\n",
    "    \"Size\": [\n",
    "      28\n",
    "    ],\n",
    "    \"Code\": [\n",
    "      \"CI\"\n",
    "    ]\n",
    "  }\n",
    "}\n",
    "\n",
    "body = str.encode(json.dumps(data))\n",
    "\n",
    "url = 'https://iban-validator-model.westeurope.inference.ml.azure.com/score'\n",
    "# Replace this with the primary/secondary key or AMLToken for the endpoint\n",
    "api_key = ''\n",
    "if not api_key:\n",
    "  raise Exception(\"A key should be provided to invoke the endpoint\")\n",
    "\n",
    "# The azureml-model-deployment header will force the request to go to a specific deployment.\n",
    "# Remove this header to have the request observe the endpoint traffic rules\n",
    "headers = {'Content-Type': 'application/json', 'Authorization': ('Bearer ' + api_key),\n",
    "           'azureml-model-deployment': 'iban-validator-model-2'}\n",
    "\n",
    "req = urllib.request.Request(url, body, headers)\n"
   ],
   "metadata": {
    "collapsed": false,
    "ExecuteTime": {
     "end_time": "2023-07-08T20:34:41.401710006Z",
     "start_time": "2023-07-08T20:34:41.021018229Z"
    }
   }
  },
  {
   "cell_type": "code",
   "execution_count": 17,
   "outputs": [
    {
     "data": {
      "text/plain": "105"
     },
     "execution_count": 17,
     "metadata": {},
     "output_type": "execute_result"
    }
   ],
   "source": [
    "# Dataframe\n",
    "dataset = pd.read_csv('./iban-validator-model/validation-dataset.csv', sep=\";\")\n",
    "len(dataset)"
   ],
   "metadata": {
    "collapsed": false,
    "ExecuteTime": {
     "end_time": "2023-07-08T20:45:12.295921221Z",
     "start_time": "2023-07-08T20:45:12.258075850Z"
    }
   }
  },
  {
   "cell_type": "code",
   "execution_count": 23,
   "outputs": [
    {
     "name": "stdout",
     "output_type": "stream",
     "text": [
      "'{\"country\":\"Côte d''Ivoire\",\"bban_regex\":\"[A-Z]{1}[0-9]{23}\",\"check_digit_regex\":\"[0-9][0-9]\",\"code\":\"CI\",\"size\":28}'\n"
     ]
    }
   ],
   "source": [
    "try:\n",
    "  response = urllib.request.urlopen(req)\n",
    "  prediction = json.loads(response.read())\n",
    "  print(dataset[\"JSON\"][np.array(prediction).argmax()])\n",
    "\n",
    "\n",
    "except urllib.error.HTTPError as error:\n",
    "  print(\"The request failed with status code: \" + str(error.code))\n",
    "  print(error.info())\n",
    "  print(error.read().decode(\"utf8\", 'ignore'))\n"
   ],
   "metadata": {
    "collapsed": false,
    "ExecuteTime": {
     "end_time": "2023-07-08T20:48:41.085236029Z",
     "start_time": "2023-07-08T20:48:39.585343597Z"
    }
   }
  },
  {
   "cell_type": "code",
   "execution_count": null,
   "outputs": [],
   "source": [],
   "metadata": {
    "collapsed": false
   }
  }
 ],
 "metadata": {
  "kernelspec": {
   "display_name": "Python 3",
   "language": "python",
   "name": "python3"
  },
  "language_info": {
   "codemirror_mode": {
    "name": "ipython",
    "version": 2
   },
   "file_extension": ".py",
   "mimetype": "text/x-python",
   "name": "python",
   "nbconvert_exporter": "python",
   "pygments_lexer": "ipython2",
   "version": "2.7.6"
  }
 },
 "nbformat": 4,
 "nbformat_minor": 0
}
