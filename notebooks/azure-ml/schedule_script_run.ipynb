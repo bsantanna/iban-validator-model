{
 "cells": [
  {
   "cell_type": "markdown",
   "source": [
    "\n",
    "> Copyright 2023 Bruno César Brito Sant'Anna <mail@bsantanna.me>\n",
    ">\n",
    "> Licensed under the Apache License, Version 2.0 (the \"License\");\n",
    "> you may not use this file except in compliance with the License.\n",
    "> You may obtain a copy of the License at\n",
    ">\n",
    ">     http://www.apache.org/licenses/LICENSE-2.0\n",
    ">\n",
    "> Unless required by applicable law or agreed to in writing, software\n",
    "> distributed under the License is distributed on an \"AS IS\" BASIS,\n",
    "> WITHOUT WARRANTIES OR CONDITIONS OF ANY KIND, either express or implied.\n",
    "> See the License for the specific language governing permissions and\n",
    "> limitations under the License.\n",
    "\n"
   ],
   "metadata": {
    "collapsed": false
   }
  },
  {
   "cell_type": "code",
   "execution_count": 40,
   "outputs": [],
   "source": [
    "from azureml.core import Workspace, Environment, Experiment, ScriptRunConfig"
   ],
   "metadata": {
    "collapsed": false,
    "ExecuteTime": {
     "end_time": "2023-07-15T16:17:11.709356061Z",
     "start_time": "2023-07-15T16:17:11.698996714Z"
    }
   }
  },
  {
   "cell_type": "code",
   "execution_count": 41,
   "outputs": [],
   "source": [
    "# workspace settings\n",
    "ws = Workspace.from_config()\n",
    "ml_env = Environment.get(ws, name='AzureML-tensorflow-2.11-cuda11')\n",
    "compute_target = ws.compute_targets['cpu-compute-cluster']"
   ],
   "metadata": {
    "collapsed": false,
    "ExecuteTime": {
     "end_time": "2023-07-15T16:17:14.790311090Z",
     "start_time": "2023-07-15T16:17:12.512022554Z"
    }
   }
  },
  {
   "cell_type": "code",
   "execution_count": 42,
   "outputs": [],
   "source": [
    "# experiment settings\n",
    "script = ScriptRunConfig(\n",
    "    source_directory='iban-validator-model',\n",
    "    script='main-entrypoint.py',\n",
    "    environment=ml_env,\n",
    "    compute_target=compute_target,\n",
    "    arguments=['--batch-size', '32',\n",
    "               '--num-epochs', '500',\n",
    "               '--input-activation', 'relu',\n",
    "               '--output-activation', 'softmax',\n",
    "               '--optimizer', 'adam',\n",
    "               '--loss', 'categorical_crossentropy']\n",
    ")\n",
    "\n",
    "exp = Experiment(ws, 'iban-validator-model-experiment')"
   ],
   "metadata": {
    "collapsed": false,
    "ExecuteTime": {
     "end_time": "2023-07-15T16:17:15.173002655Z",
     "start_time": "2023-07-15T16:17:14.793033876Z"
    }
   }
  },
  {
   "cell_type": "code",
   "execution_count": null,
   "outputs": [
    {
     "name": "stdout",
     "output_type": "stream",
     "text": [
      "https://ml.azure.com/runs/iban-validator-model-experiment_1689437839_f3ebc400?wsid=/subscriptions/0d64c10a-a916-4b57-a110-e8573d336df4/resourcegroups/market-performance-eu-we/workspaces/mp-ml-workspace&tid=0de756ee-8c66-424e-89f7-7b0b1483eb80\n",
      "RunId: iban-validator-model-experiment_1689437839_f3ebc400\n",
      "Web View: https://ml.azure.com/runs/iban-validator-model-experiment_1689437839_f3ebc400?wsid=/subscriptions/0d64c10a-a916-4b57-a110-e8573d336df4/resourcegroups/market-performance-eu-we/workspaces/mp-ml-workspace&tid=0de756ee-8c66-424e-89f7-7b0b1483eb80\n"
     ]
    }
   ],
   "source": [
    "# experiment execution\n",
    "run = exp.submit(script)\n",
    "print(run.get_portal_url())\n",
    "run.wait_for_completion(show_output=True)"
   ],
   "metadata": {
    "collapsed": false,
    "is_executing": true,
    "ExecuteTime": {
     "start_time": "2023-07-15T16:17:19.018845242Z"
    }
   }
  },
  {
   "cell_type": "code",
   "execution_count": null,
   "outputs": [],
   "source": [],
   "metadata": {
    "collapsed": false
   }
  }
 ],
 "metadata": {
  "kernelspec": {
   "display_name": "Python 3",
   "language": "python",
   "name": "python3"
  },
  "language_info": {
   "codemirror_mode": {
    "name": "ipython",
    "version": 2
   },
   "file_extension": ".py",
   "mimetype": "text/x-python",
   "name": "python",
   "nbconvert_exporter": "python",
   "pygments_lexer": "ipython2",
   "version": "2.7.6"
  }
 },
 "nbformat": 4,
 "nbformat_minor": 0
}
