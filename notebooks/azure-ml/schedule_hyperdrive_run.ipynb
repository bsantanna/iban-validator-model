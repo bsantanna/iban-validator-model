{
 "cells": [
  {
   "cell_type": "markdown",
   "source": [
    "\n",
    "> Copyright 2023 Bruno César Brito Sant'Anna <mail@bsantanna.me>\n",
    ">\n",
    "> Licensed under the Apache License, Version 2.0 (the \"License\");\n",
    "> you may not use this file except in compliance with the License.\n",
    "> You may obtain a copy of the License at\n",
    ">\n",
    ">     http://www.apache.org/licenses/LICENSE-2.0\n",
    ">\n",
    "> Unless required by applicable law or agreed to in writing, software\n",
    "> distributed under the License is distributed on an \"AS IS\" BASIS,\n",
    "> WITHOUT WARRANTIES OR CONDITIONS OF ANY KIND, either express or implied.\n",
    "> See the License for the specific language governing permissions and\n",
    "> limitations under the License.\n",
    "\n"
   ],
   "metadata": {
    "collapsed": false
   }
  },
  {
   "cell_type": "code",
   "execution_count": 7,
   "outputs": [],
   "source": [
    "from azureml.core import Workspace, Environment, Experiment, ScriptRunConfig\n",
    "from azureml.train.hyperdrive import HyperDriveConfig, MedianStoppingPolicy, PrimaryMetricGoal, GridParameterSampling, \\\n",
    "  choice"
   ],
   "metadata": {
    "collapsed": false,
    "ExecuteTime": {
     "end_time": "2023-07-15T16:46:00.100291572Z",
     "start_time": "2023-07-15T16:45:59.929410214Z"
    }
   }
  },
  {
   "cell_type": "code",
   "execution_count": 8,
   "outputs": [],
   "source": [
    "# workspace settings\n",
    "ws = Workspace.from_config()\n",
    "ml_env = Environment.get(ws, name='AzureML-tensorflow-2.11-cuda11')\n",
    "compute_target = ws.compute_targets['cpu-compute-cluster']"
   ],
   "metadata": {
    "collapsed": false,
    "ExecuteTime": {
     "end_time": "2023-07-15T16:46:05.422860444Z",
     "start_time": "2023-07-15T16:46:03.303450741Z"
    }
   }
  },
  {
   "cell_type": "code",
   "execution_count": 13,
   "outputs": [],
   "source": [
    "# experiment settings\n",
    "script = ScriptRunConfig(\n",
    "  source_directory='iban-validator-model',\n",
    "  script='main-entrypoint.py',\n",
    "  environment=ml_env,\n",
    "  compute_target=compute_target\n",
    ")\n",
    "\n",
    "early_termination_policy = MedianStoppingPolicy(\n",
    "  evaluation_interval=10, delay_evaluation=50\n",
    ")\n",
    "\n",
    "param_sampling = GridParameterSampling({\n",
    "  'batch-size': choice(32, 32, 32),\n",
    "  'num-epochs': choice(400, 400, 400),\n",
    "  'input-activation': choice('relu', 'relu', 'relu'),\n",
    "  'output-activation': choice('softmax', 'softmax', 'softmax'),\n",
    "  'optimizer': choice('adam', 'adamax', 'adadelta'),\n",
    "  'loss': choice('categorical_crossentropy', 'categorical_crossentropy', 'categorical_crossentropy'),\n",
    "})\n",
    "\n",
    "hd_config = HyperDriveConfig(\n",
    "  policy=early_termination_policy,\n",
    "  run_config=script,\n",
    "  hyperparameter_sampling=param_sampling,\n",
    "  primary_metric_name=\"accuracy\",\n",
    "  primary_metric_goal=PrimaryMetricGoal.MAXIMIZE,\n",
    "  max_total_runs=50,\n",
    "  max_concurrent_runs=4\n",
    ")\n",
    "\n",
    "exp = Experiment(ws, 'iban-validator-model-experiment')"
   ],
   "metadata": {
    "collapsed": false,
    "ExecuteTime": {
     "end_time": "2023-07-15T16:59:19.055773691Z",
     "start_time": "2023-07-15T16:59:18.019446196Z"
    }
   }
  },
  {
   "cell_type": "code",
   "execution_count": null,
   "outputs": [
    {
     "name": "stdout",
     "output_type": "stream",
     "text": [
      "https://ml.azure.com/runs/HD_6dd6d48a-31a1-4632-b784-df7741b3424b?wsid=/subscriptions/0d64c10a-a916-4b57-a110-e8573d336df4/resourcegroups/market-performance-eu-we/workspaces/mp-ml-workspace&tid=0de756ee-8c66-424e-89f7-7b0b1483eb80\n",
      "RunId: HD_6dd6d48a-31a1-4632-b784-df7741b3424b\n",
      "Web View: https://ml.azure.com/runs/HD_6dd6d48a-31a1-4632-b784-df7741b3424b?wsid=/subscriptions/0d64c10a-a916-4b57-a110-e8573d336df4/resourcegroups/market-performance-eu-we/workspaces/mp-ml-workspace&tid=0de756ee-8c66-424e-89f7-7b0b1483eb80\n",
      "\n",
      "Streaming azureml-logs/hyperdrive.txt\n",
      "=====================================\n",
      "\n",
      "[2023-07-15T16:59:22.938242][GENERATOR][INFO]Trying to sample '4' jobs from the hyperparameter space\n",
      "[2023-07-15T16:59:23.5125131Z][SCHEDULER][INFO]Scheduling job, id='HD_6dd6d48a-31a1-4632-b784-df7741b3424b_0' \n",
      "[2023-07-15T16:59:23.6672284Z][SCHEDULER][INFO]Scheduling job, id='HD_6dd6d48a-31a1-4632-b784-df7741b3424b_1' \n",
      "[2023-07-15T16:59:23.7756683Z][SCHEDULER][INFO]Scheduling job, id='HD_6dd6d48a-31a1-4632-b784-df7741b3424b_2' \n",
      "[2023-07-15T16:59:23.724978][GENERATOR][INFO]Successfully sampled '3' jobs, they will soon be submitted to the execution target.\n",
      "[2023-07-15T16:59:25.3160705Z][SCHEDULER][INFO]Successfully scheduled a job. Id='HD_6dd6d48a-31a1-4632-b784-df7741b3424b_1' \n",
      "[2023-07-15T16:59:25.3185530Z][SCHEDULER][INFO]Successfully scheduled a job. Id='HD_6dd6d48a-31a1-4632-b784-df7741b3424b_0' \n",
      "[2023-07-15T16:59:25.3461194Z][SCHEDULER][INFO]Successfully scheduled a job. Id='HD_6dd6d48a-31a1-4632-b784-df7741b3424b_2' \n"
     ]
    }
   ],
   "source": [
    "# experiment execution\n",
    "run = exp.submit(hd_config)\n",
    "print(run.get_portal_url())\n",
    "run.wait_for_completion(show_output=True)"
   ],
   "metadata": {
    "collapsed": false,
    "is_executing": true,
    "ExecuteTime": {
     "start_time": "2023-07-15T16:59:20.063752306Z"
    }
   }
  },
  {
   "cell_type": "code",
   "execution_count": null,
   "outputs": [],
   "source": [],
   "metadata": {
    "collapsed": false
   }
  }
 ],
 "metadata": {
  "kernelspec": {
   "display_name": "Python 3",
   "language": "python",
   "name": "python3"
  },
  "language_info": {
   "codemirror_mode": {
    "name": "ipython",
    "version": 2
   },
   "file_extension": ".py",
   "mimetype": "text/x-python",
   "name": "python",
   "nbconvert_exporter": "python",
   "pygments_lexer": "ipython2",
   "version": "2.7.6"
  }
 },
 "nbformat": 4,
 "nbformat_minor": 0
}
