{
 "cells": [
  {
   "cell_type": "markdown",
   "source": [
    "> Copyright 2022 Bruno César Brito Sant'Anna <mail@bsantanna.me>\n",
    ">\n",
    "> Licensed under the Apache License, Version 2.0 (the \"License\");\n",
    "> you may not use this file except in compliance with the License.\n",
    "> You may obtain a copy of the License at\n",
    ">\n",
    ">     http://www.apache.org/licenses/LICENSE-2.0\n",
    ">\n",
    "> Unless required by applicable law or agreed to in writing, software\n",
    "> distributed under the License is distributed on an \"AS IS\" BASIS,\n",
    "> WITHOUT WARRANTIES OR CONDITIONS OF ANY KIND, either express or implied.\n",
    "> See the License for the specific language governing permissions and\n",
    "> limitations under the License."
   ],
   "metadata": {
    "collapsed": false
   }
  },
  {
   "cell_type": "code",
   "execution_count": 1,
   "metadata": {
    "collapsed": true
   },
   "outputs": [],
   "source": [
    "import json\n",
    "import os\n",
    "import re\n",
    "\n",
    "import pandas as pd\n",
    "\n",
    "os.environ['TF_CPP_MIN_LOG_LEVEL'] = '3'\n",
    "import tensorflow as tf"
   ]
  },
  {
   "cell_type": "code",
   "execution_count": 2,
   "outputs": [],
   "source": [
    "# Load processed iban dataframe\n",
    "iban_data = pd.read_csv(\"../processed_ibans.csv\", sep=\";\")"
   ],
   "metadata": {
    "collapsed": false
   }
  },
  {
   "cell_type": "code",
   "execution_count": 3,
   "outputs": [],
   "source": [
    "# Load json trained model\n",
    "json_model = tf.keras.models.load_model(\"../training/json/bin\")"
   ],
   "metadata": {
    "collapsed": false
   }
  },
  {
   "cell_type": "code",
   "execution_count": 4,
   "outputs": [],
   "source": [
    "# Create a simple Validator callable\n",
    "class Mod97Validator:\n",
    "\n",
    "    def __init__(self):\n",
    "        self.mod_97_alphabet = {\n",
    "            \"A\": 10, \"B\": 11, \"C\": 12, \"D\": 13,\n",
    "            \"E\": 14, \"F\": 15, \"G\": 16, \"H\": 17,\n",
    "            \"I\": 18, \"J\": 19, \"K\": 20, \"L\": 21,\n",
    "            \"M\": 22, \"N\": 23, \"O\": 24, \"P\": 25,\n",
    "            \"Q\": 26, \"R\": 27, \"S\": 28, \"T\": 29,\n",
    "            \"U\": 30, \"V\": 31, \"W\": 32, \"X\": 33,\n",
    "            \"Y\": 34, \"Z\": 35,\n",
    "        }\n",
    "\n",
    "    def __call__(self, iban):\n",
    "        mod_97_input = (iban[4:] + iban[:4]).upper()\n",
    "        for letter, number in self.mod_97_alphabet.items():\n",
    "            mod_97_input = mod_97_input.replace(letter, str(number))\n",
    "        return int(mod_97_input) % 97 == 1\n",
    "\n",
    "\n",
    "# initialize simple model\n",
    "mod97_validator = Mod97Validator()"
   ],
   "metadata": {
    "collapsed": false
   }
  },
  {
   "cell_type": "code",
   "execution_count": 5,
   "outputs": [],
   "source": [
    "# Utility functions\n",
    "def validate(iban):\n",
    "    # get input parameters\n",
    "    bban = iban[4:]\n",
    "    code = iban[:2].upper()\n",
    "    size = len(iban)\n",
    "    check_digit = iban[2:4]\n",
    "\n",
    "    # get encoded and json predictions\n",
    "    encoded_prediction = json_model.predict(\n",
    "        {\"Code\": tf.convert_to_tensor([code]), \"Size\": tf.convert_to_tensor([size])}, verbose=0\n",
    "    )\n",
    "    json_prediction = iban_data[\"JSON\"][encoded_prediction.argmax()]\n",
    "\n",
    "    # get validation dictionary from predicted json\n",
    "    validation_dict = json.loads(json_prediction)\n",
    "\n",
    "    # validate country code\n",
    "    if validation_dict[\"code\"] != code:\n",
    "        return False\n",
    "\n",
    "    # validate size\n",
    "    if validation_dict[\"size\"] != len(iban):\n",
    "        return False\n",
    "\n",
    "    # validate check digit\n",
    "    if not re.match(validation_dict[\"check_digit_regex\"], check_digit):\n",
    "        return False\n",
    "\n",
    "    # validate bban\n",
    "    if not re.match(validation_dict[\"bban_regex\"], bban):\n",
    "        return False\n",
    "\n",
    "    # validate mod 97¸\n",
    "    return mod97_validator(iban)\n"
   ],
   "metadata": {
    "collapsed": false
   }
  },
  {
   "cell_type": "code",
   "execution_count": 6,
   "outputs": [
    {
     "name": "stdout",
     "output_type": "stream",
     "text": [
      "Input IBAN: BR1800000000141455123924100C2, valid: True\n"
     ]
    }
   ],
   "source": [
    "# Example from https://bank.codes/iban/examples/\n",
    "input = \"BR1800000000141455123924100C2\"\n",
    "is_valid = validate(input)\n",
    "print(\"Input IBAN: {}, valid: {}\".format(input, is_valid))"
   ],
   "metadata": {
    "collapsed": false
   }
  },
  {
   "cell_type": "code",
   "execution_count": 6,
   "outputs": [],
   "source": [],
   "metadata": {
    "collapsed": false
   }
  }
 ],
 "metadata": {
  "kernelspec": {
   "display_name": "Python 3",
   "language": "python",
   "name": "python3"
  },
  "language_info": {
   "codemirror_mode": {
    "name": "ipython",
    "version": 2
   },
   "file_extension": ".py",
   "mimetype": "text/x-python",
   "name": "python",
   "nbconvert_exporter": "python",
   "pygments_lexer": "ipython2",
   "version": "2.7.6"
  }
 },
 "nbformat": 4,
 "nbformat_minor": 0
}
