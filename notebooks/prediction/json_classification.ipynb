{
 "cells": [
  {
   "cell_type": "markdown",
   "source": [
    "> Copyright 2022 Bruno César Brito Sant'Anna <mail@bsantanna.me>\n",
    ">\n",
    "> Licensed under the Apache License, Version 2.0 (the \"License\");\n",
    "> you may not use this file except in compliance with the License.\n",
    "> You may obtain a copy of the License at\n",
    ">\n",
    ">     http://www.apache.org/licenses/LICENSE-2.0\n",
    ">\n",
    "> Unless required by applicable law or agreed to in writing, software\n",
    "> distributed under the License is distributed on an \"AS IS\" BASIS,\n",
    "> WITHOUT WARRANTIES OR CONDITIONS OF ANY KIND, either express or implied.\n",
    "> See the License for the specific language governing permissions and\n",
    "> limitations under the License."
   ],
   "metadata": {
    "collapsed": false
   }
  },
  {
   "cell_type": "code",
   "execution_count": 13,
   "metadata": {
    "collapsed": true
   },
   "outputs": [],
   "source": [
    "import os\n",
    "import pandas as pd\n",
    "os.environ['TF_CPP_MIN_LOG_LEVEL'] = '3'\n",
    "import tensorflow as tf"
   ]
  },
  {
   "cell_type": "code",
   "execution_count": 14,
   "outputs": [],
   "source": [
    "# Load processed iban dataframe\n",
    "iban_data = pd.read_csv(\"../processed_ibans.csv\", sep=\";\")"
   ],
   "metadata": {
    "collapsed": false
   }
  },
  {
   "cell_type": "code",
   "execution_count": 15,
   "outputs": [],
   "source": [
    "# Load trained model\n",
    "trained_model = tf.keras.models.load_model(\"../training/json/bin\")"
   ],
   "metadata": {
    "collapsed": false
   }
  },
  {
   "cell_type": "code",
   "execution_count": 16,
   "outputs": [],
   "source": [
    "# Utility functions\n",
    "\n",
    "def predict(iban):\n",
    "    code = iban[:2].upper()\n",
    "    size = len(iban)\n",
    "    prediction = trained_model.predict({\n",
    "        \"Code\": tf.convert_to_tensor([code]),\n",
    "        \"Size\": tf.convert_to_tensor([size])\n",
    "    }, verbose=0)\n",
    "    # return max probability\n",
    "    return iban_data[\"JSON\"][prediction.argmax()]"
   ],
   "metadata": {
    "collapsed": false
   }
  },
  {
   "cell_type": "code",
   "execution_count": 17,
   "outputs": [],
   "source": [
    "# Test prediction with an example from Dataframe\n",
    "#iban_data.sample(3)"
   ],
   "metadata": {
    "collapsed": false
   }
  },
  {
   "cell_type": "code",
   "execution_count": 18,
   "outputs": [
    {
     "name": "stdout",
     "output_type": "stream",
     "text": [
      "{\"country\":\"Brazil\",\"bban_regex\":\"[0-9]{23}[A-Z]{1}[A-Za-z0-9]{1}\",\"check_digit_regex\":\"[0-9][0-9]\",\"code\":\"BR\",\"size\":29}\n"
     ]
    }
   ],
   "source": [
    "# Example from https://bank.codes/iban/examples/\n",
    "prediction = predict(\"BR1800000000141455123924100C2\")\n",
    "print(prediction)"
   ],
   "metadata": {
    "collapsed": false
   }
  },
  {
   "cell_type": "code",
   "execution_count": 6,
   "outputs": [],
   "source": [],
   "metadata": {
    "collapsed": false
   }
  }
 ],
 "metadata": {
  "kernelspec": {
   "display_name": "Python 3",
   "language": "python",
   "name": "python3"
  },
  "language_info": {
   "codemirror_mode": {
    "name": "ipython",
    "version": 2
   },
   "file_extension": ".py",
   "mimetype": "text/x-python",
   "name": "python",
   "nbconvert_exporter": "python",
   "pygments_lexer": "ipython2",
   "version": "2.7.6"
  }
 },
 "nbformat": 4,
 "nbformat_minor": 0
}
